{
 "cells": [
  {
   "cell_type": "markdown",
   "metadata": {
    "papermill": {
     "duration": 0.013285,
     "end_time": "2020-09-23T18:16:39.591459",
     "exception": false,
     "start_time": "2020-09-23T18:16:39.578174",
     "status": "completed"
    },
    "tags": []
   },
   "source": [
    "## 1.Importing Libraries"
   ]
  },
  {
   "cell_type": "code",
   "execution_count": 1,
   "metadata": {
    "execution": {
     "iopub.execute_input": "2020-09-23T18:16:39.625418Z",
     "iopub.status.busy": "2020-09-23T18:16:39.624449Z",
     "iopub.status.idle": "2020-09-23T18:16:40.854707Z",
     "shell.execute_reply": "2020-09-23T18:16:40.855350Z"
    },
    "papermill": {
     "duration": 1.251527,
     "end_time": "2020-09-23T18:16:40.855540",
     "exception": false,
     "start_time": "2020-09-23T18:16:39.604013",
     "status": "completed"
    },
    "tags": []
   },
   "outputs": [
    {
     "name": "stdout",
     "output_type": "stream",
     "text": [
      "/kaggle/input/features-new/__results__.html\n",
      "/kaggle/input/features-new/data.h5\n",
      "/kaggle/input/features-new/__notebook__.ipynb\n",
      "/kaggle/input/features-new/custom.css\n",
      "/kaggle/input/features-new/__output__.json\n"
     ]
    }
   ],
   "source": [
    "import numpy as np \n",
    "import pandas as pd\n",
    "import gc\n",
    "from tqdm import tqdm_notebook as tqdm\n",
    "import warnings\n",
    "warnings.filterwarnings('ignore')\n",
    "import lightgbm as lgb\n",
    "\n",
    "import os\n",
    "for dirname, _, filenames in os.walk('/kaggle/input'):\n",
    "    for filename in filenames:\n",
    "        print(os.path.join(dirname, filename))"
   ]
  },
  {
   "cell_type": "markdown",
   "metadata": {
    "papermill": {
     "duration": 0.012171,
     "end_time": "2020-09-23T18:16:40.880853",
     "exception": false,
     "start_time": "2020-09-23T18:16:40.868682",
     "status": "completed"
    },
    "tags": []
   },
   "source": [
    "## 2.Reading the Data\n",
    "\n",
    "* Reading the saved data from the New_featurization notebook."
   ]
  },
  {
   "cell_type": "code",
   "execution_count": 2,
   "metadata": {
    "execution": {
     "iopub.execute_input": "2020-09-23T18:16:40.914400Z",
     "iopub.status.busy": "2020-09-23T18:16:40.913542Z",
     "iopub.status.idle": "2020-09-23T18:17:05.908099Z",
     "shell.execute_reply": "2020-09-23T18:17:05.907305Z"
    },
    "papermill": {
     "duration": 25.013065,
     "end_time": "2020-09-23T18:17:05.908262",
     "exception": false,
     "start_time": "2020-09-23T18:16:40.895197",
     "status": "completed"
    },
    "tags": []
   },
   "outputs": [],
   "source": [
    "data = pd.read_hdf('/kaggle/input/features-new/data.h5', 'data')"
   ]
  },
  {
   "cell_type": "markdown",
   "metadata": {
    "papermill": {
     "duration": 0.012796,
     "end_time": "2020-09-23T18:17:05.934646",
     "exception": false,
     "start_time": "2020-09-23T18:17:05.921850",
     "status": "completed"
    },
    "tags": []
   },
   "source": [
    "## 3. Splitting the data"
   ]
  },
  {
   "cell_type": "code",
   "execution_count": 3,
   "metadata": {
    "execution": {
     "iopub.execute_input": "2020-09-23T18:17:05.970647Z",
     "iopub.status.busy": "2020-09-23T18:17:05.969241Z",
     "iopub.status.idle": "2020-09-23T18:17:10.964563Z",
     "shell.execute_reply": "2020-09-23T18:17:10.965248Z"
    },
    "papermill": {
     "duration": 5.017961,
     "end_time": "2020-09-23T18:17:10.965435",
     "exception": false,
     "start_time": "2020-09-23T18:17:05.947474",
     "status": "completed"
    },
    "tags": []
   },
   "outputs": [],
   "source": [
    "test_data = data[(data['date']>'2016-05-22')]\n",
    "train_data = data[(data['date']<='2016-04-24')]\n",
    "val_data = data[(data['date']> '2016-04-24')& (data['date']<='2016-05-22')]\n",
    "del data"
   ]
  },
  {
   "cell_type": "markdown",
   "metadata": {
    "papermill": {
     "duration": 0.013181,
     "end_time": "2020-09-23T18:17:10.992458",
     "exception": false,
     "start_time": "2020-09-23T18:17:10.979277",
     "status": "completed"
    },
    "tags": []
   },
   "source": [
    "## 4.Splitting the train and validation data "
   ]
  },
  {
   "cell_type": "code",
   "execution_count": 4,
   "metadata": {
    "execution": {
     "iopub.execute_input": "2020-09-23T18:17:11.039199Z",
     "iopub.status.busy": "2020-09-23T18:17:11.034260Z",
     "iopub.status.idle": "2020-09-23T18:17:20.534878Z",
     "shell.execute_reply": "2020-09-23T18:17:20.534164Z"
    },
    "papermill": {
     "duration": 9.526363,
     "end_time": "2020-09-23T18:17:20.535009",
     "exception": false,
     "start_time": "2020-09-23T18:17:11.008646",
     "status": "completed"
    },
    "tags": []
   },
   "outputs": [],
   "source": [
    "data_list=[]\n",
    "def data_list_fn():\n",
    "    for j in range(1,5):\n",
    "        for i in range(10):\n",
    "            data_list.append(f'data_s{i}_w{j}')\n",
    "data_list_fn()\n",
    "#print(data_list)\n",
    "model_list = []\n",
    "def model_list_fn():\n",
    "    for j in range(1,5):\n",
    "        for i in range(10):\n",
    "            model_list.append(f'model_s{i}_w{j}')\n",
    "model_list_fn()\n",
    "#print(model_list)\n",
    "\n",
    "\n",
    "train_data_parts = {}\n",
    "val_data_parts={}\n",
    "test_data_parts={}\n",
    "week_start = [23,30,6,13]\n",
    "week_end = [29,5,12,19]\n",
    "            \n",
    "\n",
    "def ramu_data(data_list,data,data_parts):\n",
    "    m = 0\n",
    "    for j,k in zip(week_start,week_end):\n",
    "        for i in range(10):\n",
    "            data_parts[data_list[m]]=data[(data['store_id']==i) & ((data['tm_d']>=j)&(data['tm_d']<=k))]\n",
    "            m+=1\n",
    "\n",
    "\n",
    "            \n",
    "def ramu_data2(data_list,data,data_parts):\n",
    "    m = 10\n",
    "    for i in range(10):\n",
    "        data_parts[data_list[m]]=data[(data['store_id']==i) & ((data['tm_d']>=30) | (data['tm_d']<=5))]\n",
    "        m+=1\n",
    "\n",
    "            \n",
    "            \n",
    "ramu_data(data_list,train_data,train_data_parts)\n",
    "ramu_data(data_list,val_data,val_data_parts)\n",
    "ramu_data2(data_list,train_data,train_data_parts)\n",
    "ramu_data2(data_list,val_data,val_data_parts)\n",
    "ramu_data(data_list,test_data,test_data_parts)\n",
    "ramu_data2(data_list,test_data,test_data_parts)\n",
    "\n",
    "del train_data,val_data,test_data"
   ]
  },
  {
   "cell_type": "markdown",
   "metadata": {
    "papermill": {
     "duration": 0.012752,
     "end_time": "2020-09-23T18:17:20.561054",
     "exception": false,
     "start_time": "2020-09-23T18:17:20.548302",
     "status": "completed"
    },
    "tags": []
   },
   "source": [
    "## 5.Features division\n"
   ]
  },
  {
   "cell_type": "code",
   "execution_count": 5,
   "metadata": {
    "execution": {
     "iopub.execute_input": "2020-09-23T18:17:20.604353Z",
     "iopub.status.busy": "2020-09-23T18:17:20.601372Z",
     "iopub.status.idle": "2020-09-23T18:17:20.608082Z",
     "shell.execute_reply": "2020-09-23T18:17:20.607213Z"
    },
    "papermill": {
     "duration": 0.034064,
     "end_time": "2020-09-23T18:17:20.608210",
     "exception": false,
     "start_time": "2020-09-23T18:17:20.574146",
     "status": "completed"
    },
    "tags": []
   },
   "outputs": [],
   "source": [
    "features_w1 = ['item_id', 'dept_id', 'cat_id', 'store_id', 'state_id', 'wm_yr_wk', \n",
    "            'event_name_1', 'event_type_1','event_name_2', 'event_type_2','snap_CA', 'snap_TX',\n",
    "            'snap_WI','sell_price', 'price_max', 'price_min', 'price_std', 'price_mean',\n",
    "            'price_nunique', 'item_nunique', 'encoded_id', 'lag_d_7', 'lag_d_8','lag_d_9',\n",
    "            'r_std_d7', 'r_std_d14','r_std_d30', 'r_mean_d7', 'r_mean_d14', \n",
    "            'r_mean_d30', 'tm_d', 'tm_w','tm_m', 'tm_y', 'tm_wm', 'tm_dw', 'tm_w_end']\n",
    "\n",
    "features_w2 = ['item_id', 'dept_id', 'cat_id', 'store_id', 'state_id', 'wm_yr_wk', \n",
    "            'event_name_1', 'event_type_1','event_name_2', 'event_type_2','snap_CA', 'snap_TX',\n",
    "            'snap_WI','sell_price', 'price_max', 'price_min', 'price_std', 'price_mean',\n",
    "            'price_nunique', 'item_nunique', 'encoded_id','lag_d_14', 'lag_d_15', 'lag_d_16',\n",
    "            'r_std_d7', 'r_std_d14','r_std_d30', 'r_mean_d7', 'r_mean_d14', \n",
    "            'r_mean_d30', 'tm_d', 'tm_w','tm_m', 'tm_y', 'tm_wm', 'tm_dw', 'tm_w_end']\n",
    "\n",
    "features_w3 = ['item_id', 'dept_id', 'cat_id', 'store_id', 'state_id', 'wm_yr_wk', \n",
    "            'event_name_1', 'event_type_1','event_name_2', 'event_type_2','snap_CA', 'snap_TX',\n",
    "            'snap_WI','sell_price', 'price_max', 'price_min', 'price_std', 'price_mean',\n",
    "            'price_nunique', 'item_nunique', 'encoded_id','lag_d_21', 'lag_d_22','lag_d_23',\n",
    "            'r_std_d7', 'r_std_d14','r_std_d30', 'r_mean_d7', 'r_mean_d14',\n",
    "            'r_mean_d30', 'tm_d', 'tm_w','tm_m', 'tm_y', 'tm_wm', 'tm_dw', 'tm_w_end']\n",
    "\n",
    "features_w4 = ['item_id', 'dept_id', 'cat_id', 'store_id', 'state_id', 'wm_yr_wk', \n",
    "            'event_name_1', 'event_type_1','event_name_2', 'event_type_2','snap_CA', 'snap_TX',\n",
    "            'snap_WI','sell_price', 'price_max', 'price_min', 'price_std', 'price_mean',\n",
    "            'price_nunique', 'item_nunique', 'encoded_id', 'lag_d_28','lag_d_29', 'lag_d_30',\n",
    "            'r_std_d7', 'r_std_d14','r_std_d30', 'r_mean_d7', 'r_mean_d14', \n",
    "            'r_mean_d30', 'tm_d', 'tm_w','tm_m', 'tm_y', 'tm_wm', 'tm_dw', 'tm_w_end']\n",
    "\n"
   ]
  },
  {
   "cell_type": "markdown",
   "metadata": {
    "papermill": {
     "duration": 0.012923,
     "end_time": "2020-09-23T18:17:20.634788",
     "exception": false,
     "start_time": "2020-09-23T18:17:20.621865",
     "status": "completed"
    },
    "tags": []
   },
   "source": [
    "## 6. Modelling 40 models"
   ]
  },
  {
   "cell_type": "code",
   "execution_count": 6,
   "metadata": {
    "execution": {
     "iopub.execute_input": "2020-09-23T18:17:20.675212Z",
     "iopub.status.busy": "2020-09-23T18:17:20.674442Z",
     "iopub.status.idle": "2020-09-23T18:17:20.678133Z",
     "shell.execute_reply": "2020-09-23T18:17:20.677479Z"
    },
    "papermill": {
     "duration": 0.029522,
     "end_time": "2020-09-23T18:17:20.678264",
     "exception": false,
     "start_time": "2020-09-23T18:17:20.648742",
     "status": "completed"
    },
    "tags": []
   },
   "outputs": [],
   "source": [
    "categorical_features = ['item_id', 'dept_id', 'cat_id', 'store_id', 'state_id','event_name_1', \n",
    "                        'event_name_2','snap_CA','snap_TX', 'snap_WI','tm_d','encoded_id']\n",
    "\n",
    "def lgbm_model(x_train,y_train,x_val,y_val,categorical_features,lr):\n",
    "    \n",
    "    params =  {'boosting_type': 'gbdt','objective': 'tweedie','tweedie_variance_power': 1.1,\n",
    "                      'metric': 'rmse','subsample': 0.6,'subsample_freq': 3,'bagging_fraction': 0.5,\n",
    "                      'learning_rate': lr,'num_leaves': 70,'min_data_in_leaf': 2**8-1,'max_depth':7,\n",
    "                      'max_bin': 100,'n_estimators': 1000,'sub_feature': 0.6,'boost_from_average': False,\n",
    "                      'seed': 42,'feature_fraction': 0.5,'lambda_l2': 0.02,\n",
    "              }\n",
    "\n",
    "       \n",
    "    d_train = lgb.Dataset(x_train,label=y_train, categorical_feature=categorical_features)\n",
    "    d_val   = lgb.Dataset(x_val,label=y_val, categorical_feature=categorical_features)\n",
    "    watchlist = [d_train,d_val]\n",
    "    \n",
    "    model = lgb.train(params,train_set=d_train,valid_sets=watchlist,verbose_eval = 1000)\n",
    "    \n",
    "    return model"
   ]
  },
  {
   "cell_type": "code",
   "execution_count": 7,
   "metadata": {
    "execution": {
     "iopub.execute_input": "2020-09-23T18:17:20.748491Z",
     "iopub.status.busy": "2020-09-23T18:17:20.746892Z",
     "iopub.status.idle": "2020-09-23T19:15:55.769043Z",
     "shell.execute_reply": "2020-09-23T19:15:55.770253Z"
    },
    "papermill": {
     "duration": 3515.078589,
     "end_time": "2020-09-23T19:15:55.770467",
     "exception": false,
     "start_time": "2020-09-23T18:17:20.691878",
     "status": "completed"
    },
    "tags": []
   },
   "outputs": [
    {
     "name": "stdout",
     "output_type": "stream",
     "text": [
      "[1000]\ttraining's rmse: 2.04947\tvalid_1's rmse: 1.89648\n",
      "[1000]\ttraining's rmse: 1.63724\tvalid_1's rmse: 1.91266\n",
      "[1000]\ttraining's rmse: 2.70293\tvalid_1's rmse: 2.4378\n",
      "[1000]\ttraining's rmse: 1.30546\tvalid_1's rmse: 1.32009\n",
      "[1000]\ttraining's rmse: 1.63604\tvalid_1's rmse: 1.46832\n",
      "[1000]\ttraining's rmse: 1.94497\tvalid_1's rmse: 1.73726\n",
      "[1000]\ttraining's rmse: 1.77331\tvalid_1's rmse: 1.86768\n",
      "[1000]\ttraining's rmse: 1.49721\tvalid_1's rmse: 1.59549\n",
      "[1000]\ttraining's rmse: 1.9119\tvalid_1's rmse: 2.14571\n",
      "[1000]\ttraining's rmse: 1.60276\tvalid_1's rmse: 1.67612\n",
      "[1000]\ttraining's rmse: 2.30978\tvalid_1's rmse: 2.2128\n",
      "[1000]\ttraining's rmse: 1.73419\tvalid_1's rmse: 2.17388\n",
      "[1000]\ttraining's rmse: 3.15868\tvalid_1's rmse: 2.74446\n",
      "[1000]\ttraining's rmse: 1.38562\tvalid_1's rmse: 1.43782\n",
      "[1000]\ttraining's rmse: 1.83554\tvalid_1's rmse: 1.75912\n",
      "[1000]\ttraining's rmse: 2.10023\tvalid_1's rmse: 1.98075\n",
      "[1000]\ttraining's rmse: 1.95602\tvalid_1's rmse: 1.97632\n",
      "[1000]\ttraining's rmse: 1.64666\tvalid_1's rmse: 1.77472\n",
      "[1000]\ttraining's rmse: 2.68624\tvalid_1's rmse: 3.26958\n",
      "[1000]\ttraining's rmse: 1.97283\tvalid_1's rmse: 2.07035\n",
      "[1000]\ttraining's rmse: 2.28074\tvalid_1's rmse: 2.1923\n",
      "[1000]\ttraining's rmse: 1.71063\tvalid_1's rmse: 1.97579\n",
      "[1000]\ttraining's rmse: 3.15146\tvalid_1's rmse: 2.54053\n",
      "[1000]\ttraining's rmse: 1.36837\tvalid_1's rmse: 1.44142\n",
      "[1000]\ttraining's rmse: 1.86867\tvalid_1's rmse: 1.71469\n",
      "[1000]\ttraining's rmse: 2.15456\tvalid_1's rmse: 1.98143\n",
      "[1000]\ttraining's rmse: 1.98336\tvalid_1's rmse: 2.18605\n",
      "[1000]\ttraining's rmse: 1.60191\tvalid_1's rmse: 1.75605\n",
      "[1000]\ttraining's rmse: 2.91741\tvalid_1's rmse: 3.76998\n",
      "[1000]\ttraining's rmse: 1.99206\tvalid_1's rmse: 2.39666\n",
      "[1000]\ttraining's rmse: 2.1727\tvalid_1's rmse: 2.37884\n",
      "[1000]\ttraining's rmse: 1.71342\tvalid_1's rmse: 2.05219\n",
      "[1000]\ttraining's rmse: 2.95408\tvalid_1's rmse: 2.79983\n",
      "[1000]\ttraining's rmse: 1.35014\tvalid_1's rmse: 1.44742\n",
      "[1000]\ttraining's rmse: 1.82033\tvalid_1's rmse: 1.98428\n",
      "[1000]\ttraining's rmse: 2.18836\tvalid_1's rmse: 2.00809\n",
      "[1000]\ttraining's rmse: 2.01754\tvalid_1's rmse: 2.01028\n",
      "[1000]\ttraining's rmse: 1.60881\tvalid_1's rmse: 1.77979\n",
      "[1000]\ttraining's rmse: 2.62817\tvalid_1's rmse: 3.16582\n",
      "[1000]\ttraining's rmse: 1.92945\tvalid_1's rmse: 2.08182\n"
     ]
    }
   ],
   "source": [
    "lr=[0.04,0.03,0.04,0.05]\n",
    "features_list = [features_w1,features_w2,features_w3,features_w4]\n",
    "model_data_parts={}\n",
    "def model_training(lr,features_list,data_list):\n",
    "    m=0\n",
    "    for i,j in zip(lr,features_list):\n",
    "        w=1\n",
    "        for k in range(10):      \n",
    "            x_train = train_data_parts.get(data_list[m])[j]\n",
    "            y_train = train_data_parts.get(data_list[m])[['unit_sales']]\n",
    "            x_val   = val_data_parts.get(data_list[m])[j]\n",
    "            y_val   = val_data_parts.get(data_list[m])[['unit_sales']]\n",
    "            model   = lgbm_model(x_train,y_train,x_val,y_val,categorical_features,lr=i)\n",
    "            #print('Model of store {} in week {} is done '.format(k,w))\n",
    "            model_data_parts[model_list[m]]= model\n",
    "            m+=1\n",
    "        w+=1\n",
    "model_training(lr,features_list,data_list)"
   ]
  },
  {
   "cell_type": "markdown",
   "metadata": {
    "papermill": {
     "duration": 0.035224,
     "end_time": "2020-09-23T19:15:55.841697",
     "exception": false,
     "start_time": "2020-09-23T19:15:55.806473",
     "status": "completed"
    },
    "tags": []
   },
   "source": [
    "## 7. Saving all models"
   ]
  },
  {
   "cell_type": "code",
   "execution_count": 8,
   "metadata": {
    "execution": {
     "iopub.execute_input": "2020-09-23T19:15:55.933165Z",
     "iopub.status.busy": "2020-09-23T19:15:55.932133Z",
     "iopub.status.idle": "2020-09-23T19:16:16.913542Z",
     "shell.execute_reply": "2020-09-23T19:16:16.914375Z"
    },
    "papermill": {
     "duration": 21.037284,
     "end_time": "2020-09-23T19:16:16.914597",
     "exception": false,
     "start_time": "2020-09-23T19:15:55.877313",
     "status": "completed"
    },
    "tags": []
   },
   "outputs": [],
   "source": [
    "import pickle\n",
    "filename = 'models.sav'\n",
    "pickle.dump(model_data_parts, open(filename, 'wb'))"
   ]
  },
  {
   "cell_type": "markdown",
   "metadata": {
    "papermill": {
     "duration": 0.037816,
     "end_time": "2020-09-23T19:16:16.990172",
     "exception": false,
     "start_time": "2020-09-23T19:16:16.952356",
     "status": "completed"
    },
    "tags": []
   },
   "source": [
    "## Summary\n",
    "\n",
    "\n",
    "### 3. Splitting the data\n",
    "\n",
    "* Splitting the data into train,validation and test data based on time.\n",
    "* Validation and test dat for 28 days.\n",
    "\n",
    "\n",
    "\n",
    "### 4.Splitting the train and validation data \n",
    "\n",
    "* Splitting the train data and validation data weekly for every store of total 10 stores.\n",
    "* Making it 4 * 10 = 40 train data and validation data.\n",
    "* Storing these in a dictionary for easy access.\n",
    "\n",
    "\n",
    "### 5.Features division\n",
    "\n",
    "* lag features are separated for each week separately.\n",
    "* week1 - 'lag_d_7', 'lag_d_8','lag_d_9'\n",
    "* week2 - 'lag_d_14', 'lag_d_15', 'lag_d_16'\n",
    "* week3 - 'lag_d_21', 'lag_d_22','lag_d_23'\n",
    "* week4 - 'lag_d_28','lag_d_29', 'lag_d_30'\n",
    "\n",
    "\n",
    "\n",
    "### 6. Modelling 40 models\n",
    "\n",
    "* Individually taken  train and validation data from the 40 data frames from the dictionary.\n",
    "* Train the respective model and stored the model to a dictionary based on its name.\n",
    "\n",
    "\n",
    "* Finally saving all the models for testing."
   ]
  }
 ],
 "metadata": {
  "kernelspec": {
   "display_name": "Python 3",
   "language": "python",
   "name": "python3"
  },
  "language_info": {
   "codemirror_mode": {
    "name": "ipython",
    "version": 3
   },
   "file_extension": ".py",
   "mimetype": "text/x-python",
   "name": "python",
   "nbconvert_exporter": "python",
   "pygments_lexer": "ipython3",
   "version": "3.6.5"
  },
  "papermill": {
   "duration": 3583.087706,
   "end_time": "2020-09-23T19:16:17.240977",
   "environment_variables": {},
   "exception": null,
   "input_path": "__notebook__.ipynb",
   "output_path": "__notebook__.ipynb",
   "parameters": {},
   "start_time": "2020-09-23T18:16:34.153271",
   "version": "2.1.0"
  }
 },
 "nbformat": 4,
 "nbformat_minor": 4
}
